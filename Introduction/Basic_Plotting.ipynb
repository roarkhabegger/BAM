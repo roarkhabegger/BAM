{
 "cells": [
  {
   "cell_type": "markdown",
   "id": "c85bfc35",
   "metadata": {},
   "source": [
    "One of the most important parts of scientific research is displaying your results in a concise, clean, and understandable way. Luckily, matplotlib exists. matplotlib is a Python library for plotting that is incredibily diverse and customizable. The first thing we'll need to do is read in the library itself, along with NumPy so we can generate some data."
   ]
  },
  {
   "cell_type": "code",
   "execution_count": null,
   "id": "3720812d",
   "metadata": {},
   "outputs": [],
   "source": [
    "import numpy as np\n",
    "import matplotlib.pyplot as plt"
   ]
  },
  {
   "cell_type": "markdown",
   "id": "99aec74c",
   "metadata": {},
   "source": [
    "Extra cell!"
   ]
  },
  {
   "cell_type": "markdown",
   "id": "a29dba9c",
   "metadata": {},
   "source": [
    "# Baby's First Plot"
   ]
  },
  {
   "cell_type": "markdown",
   "id": "6005e5e2",
   "metadata": {},
   "source": [
    "The first thing we'll need is data to plot. Let's just generate an array from 0 to 2$\\pi$ and take the sin of it."
   ]
  },
  {
   "cell_type": "code",
   "execution_count": null,
   "id": "444584fb",
   "metadata": {},
   "outputs": [],
   "source": [
    "x = np.linspace(0, 2*np.pi, 40) # array from 0 to 2pi with 50 points\n",
    "y = np.sin(x)                   # sin(x)"
   ]
  },
  {
   "cell_type": "markdown",
   "id": "50713b0b",
   "metadata": {},
   "source": [
    "To plot, we can use plt.plot (for a line) or plt.scatter (for a scatter plot). Let's try both."
   ]
  },
  {
   "cell_type": "code",
   "execution_count": null,
   "id": "e735941c",
   "metadata": {},
   "outputs": [],
   "source": [
    "plt.plot(x, y)      # line plot\n",
    "plt.scatter(x, y)   # scatter plot"
   ]
  },
  {
   "cell_type": "markdown",
   "id": "97f361ad",
   "metadata": {},
   "source": [
    "For now, that's the really important stuff. The next cell is going to include a **lot** of customization, including some reccomendations. "
   ]
  },
  {
   "cell_type": "code",
   "execution_count": null,
   "id": "32b1c2a9",
   "metadata": {},
   "outputs": [],
   "source": [
    "plt.figure(figsize=(6,6))          # generate a figure where you can specify the dimensions, in inches\n",
    "                                   # PLOTS. SHOULD. ALWAYS. BE. SQUARE. Unless it's a spectrum.\n",
    "plt.plot(x, y, \n",
    "         color='red',              # choose the color of your line. try to avoid mixing reds and greens\n",
    "         lw=3,                     # choose the 'line width' (thickness) of your data\n",
    "         linestyle='--',           # make the line dotted. options: (-, --, -., :)\n",
    "         alpha=0.5,                # change the opacity of the line. alpha=0 is transparent, alpha=1 is opaque.\n",
    "         label='Line Plot')        # set the label for the line. later we'll generate a legend.\n",
    "\n",
    "plt.scatter(x, y, \n",
    "            marker='*',            # change what the point looks like. some options are (., o, *, v, ^, <, >)\n",
    "            s=70,                  # change the size of the points\n",
    "            edgecolor='black',     # change the edge color of the points\n",
    "            color='yellow',        # change the center color of the points\n",
    "            label='Scatter Plot')  # set the label for the scatter plot\n",
    "\n",
    "plt.legend(loc='upper right',      # generate a legend and put it in the upper right hand corner\n",
    "           fontsize=14)            # make the font bigger\n",
    "\n",
    "plt.xlabel('x',                    # always label your axes!\n",
    "           fontsize=15)            # make sure the labels are large enough to be legible\n",
    "plt.ylabel('y',                    \n",
    "           fontsize=15)            \n",
    "\n",
    "# The next few things are nitpicky, but if a plot doesn't look \"good\" to me, they're usually the reason why. \n",
    "\n",
    "plt.xticks(fontsize=15)            # we want to be able to see the ticks on each axis\n",
    "plt.yticks(fontsize=15)\n",
    "\n",
    "ax = plt.gca()                     # Python is an object-oriented language. Without going into too much detail, this \n",
    "                                   #        command Gets the Current Axis (hence gca) of the plot so we can do even \n",
    "                                   #        more cool stuff with it.\n",
    "        \n",
    "ax.tick_params(axis=\"both\",        # get the tick marks for each axis\n",
    "               direction=\"in\",     # point them inward instead of outward\n",
    "               size=8)             # make them larger\n",
    "\n",
    "plt.show()                         # go ahead and display the plot!"
   ]
  },
  {
   "cell_type": "markdown",
   "id": "41f17d32",
   "metadata": {},
   "source": [
    "That's a lot to remember! Good thing you don't have to. After a couple of years most of this will be second nature, but I still had to look up a good portion of it to remember the exact phrasing."
   ]
  },
  {
   "cell_type": "markdown",
   "id": "92dfe3a8",
   "metadata": {},
   "source": [
    "# Exercises"
   ]
  },
  {
   "cell_type": "markdown",
   "id": "c604a666",
   "metadata": {},
   "source": [
    "## 1) Repetition"
   ]
  },
  {
   "cell_type": "markdown",
   "id": "ab9a4412",
   "metadata": {},
   "source": [
    "Use the cell below to plot x vs cos(x) (as a line plot) from 0 to 4$\\pi$."
   ]
  },
  {
   "cell_type": "code",
   "execution_count": null,
   "id": "c79e3081",
   "metadata": {},
   "outputs": [],
   "source": [
    "# do exercise 1 here"
   ]
  },
  {
   "cell_type": "markdown",
   "id": "cdbc5072",
   "metadata": {},
   "source": [
    "## 2) Understanding"
   ]
  },
  {
   "cell_type": "markdown",
   "id": "a6b8b3f3",
   "metadata": {},
   "source": [
    "Use the cell below to create a square plot showing sin(x) from 0 to $\\frac{\\pi}{2}$. Then show the Taylor expansion for sin(x) (just the first two terms) over the same range to see how well they match. Make sure to make the lines different colors, and label them in a legend!"
   ]
  },
  {
   "cell_type": "code",
   "execution_count": null,
   "id": "12e24db8",
   "metadata": {},
   "outputs": [],
   "source": [
    "# do exercise 2 here"
   ]
  },
  {
   "cell_type": "markdown",
   "id": "ac3d5c5c",
   "metadata": {},
   "source": [
    "# 3) Challenge"
   ]
  },
  {
   "cell_type": "markdown",
   "id": "7ebb506b",
   "metadata": {},
   "source": [
    "For this problem we'll plot Gaussians of different widths. \n",
    "\n",
    "The first thing we'll need to do is write a function that takes as inputs your x array, a mean, and a standard deviation and returns a Gaussian. \n",
    "\n",
    "Next, we'll need a mean. Let's use $\\mu=5$ for all our Gaussians, so we can easily compare widths. \n",
    "\n",
    "Then (in different colors! bonus points if it's in a sensical color sequence), plot 4 Gaussians with widths of [1, 2, 3, 5]. \n",
    "\n",
    "Then label each one with its width in a legend."
   ]
  },
  {
   "cell_type": "code",
   "execution_count": null,
   "id": "a1eddfd7",
   "metadata": {},
   "outputs": [],
   "source": [
    "# do exercise 3 here"
   ]
  },
  {
   "cell_type": "markdown",
   "id": "64327955",
   "metadata": {},
   "source": [
    "Question: is your code easily adaptable to plotting a large number of Gaussians? If you used a new line to plot each Gaussian, it may not be. If you used a for loop, your code is better able to be adjusted for more data. "
   ]
  },
  {
   "cell_type": "markdown",
   "id": "cd68a230",
   "metadata": {},
   "source": [
    "# Astronomy Exercise"
   ]
  },
  {
   "cell_type": "markdown",
   "id": "3d66e814",
   "metadata": {},
   "source": [
    "Now we can start thinking about astrophysical data. Astronomers frequently work with *spectra*, which shows flux as a function of wavelength from an object. The commands below read in a spectrum, and define a wavelength and flux array. "
   ]
  },
  {
   "cell_type": "code",
   "execution_count": null,
   "id": "603ab4f0",
   "metadata": {},
   "outputs": [],
   "source": [
    "gal1 = np.load('gal1.npy')\n",
    "gal2 = np.load('gal2.npy')\n",
    "\n",
    "gal1_wavelength = gal1[0]\n",
    "gal1_flux = gal1[1]\n",
    "\n",
    "gal2_wavelength = gal2[0]\n",
    "gal2_flux = gal2[1]"
   ]
  },
  {
   "cell_type": "markdown",
   "id": "c2f5552e",
   "metadata": {},
   "source": [
    "The spectra you'll make below show the H$\\beta$ and [OIII] emission lines for two different galaxies. Astronomers can determine whether a galaxy's emission lines are dominated by star formation or by a central black hole (active galactic nuclei, AGN) by looking at the width of the lines. Emission lines from AGN are typically widened (a process called Doppler broadening) as compared to a star-forming galaxy's emission lines. "
   ]
  },
  {
   "cell_type": "markdown",
   "id": "b06e4836",
   "metadata": {},
   "source": [
    "Next, for each galaxy, plot flux against wavelength. You'll see that one galaxy's emission lines are wider than the other's. Label this galaxy 'AGN', and the other 'SF' (for star forming). How pretty can you make your spectrum? "
   ]
  },
  {
   "cell_type": "code",
   "execution_count": null,
   "id": "e8859ef2",
   "metadata": {},
   "outputs": [],
   "source": [
    "# plot spectra here"
   ]
  },
  {
   "cell_type": "markdown",
   "id": "ad6635c7",
   "metadata": {},
   "source": [
    "# Bonus: Latex"
   ]
  },
  {
   "cell_type": "markdown",
   "id": "193a0178",
   "metadata": {},
   "source": [
    "Astronomers use a lot of symbols that aren't on the normal keyboard, and in the era of typing it would be nice to be able to write them quickly. We cope with this by using Latex, (pronounced Latek or Lahtek), that uses commands to write different mathematical symbols. The syntax is '$\\[symbol]$', for example: [dollar sign] \\alpha [dollar sign], like this: $\\alpha$. Hint: double click on this text to see the inner workings of how I've typed this paragraph."
   ]
  },
  {
   "cell_type": "markdown",
   "id": "a5ab6b17",
   "metadata": {},
   "source": [
    "You can also type different mathematical operators, like exponents and subscripts. Exponents are denoted by '^', and subscripts by '_', like this: $e = mc^2$, or $PV = nk_BT$. If you want to have more than one term in an exponent or subscript, use braces: $e^{-x}$. Finally, you can write fractions using \\frac{numerator}{denominator}: $E_{kin} = \\frac{3}{2}nk_BT$"
   ]
  },
  {
   "cell_type": "code",
   "execution_count": null,
   "id": "b56272c0",
   "metadata": {},
   "outputs": [],
   "source": [
    "# practice with Latex here"
   ]
  },
  {
   "cell_type": "code",
   "execution_count": null,
   "id": "8174bc94",
   "metadata": {},
   "outputs": [],
   "source": []
  }
 ],
 "metadata": {
  "kernelspec": {
   "display_name": "Python 3 (ipykernel)",
   "language": "python",
   "name": "python3"
  },
  "language_info": {
   "codemirror_mode": {
    "name": "ipython",
    "version": 3
   },
   "file_extension": ".py",
   "mimetype": "text/x-python",
   "name": "python",
   "nbconvert_exporter": "python",
   "pygments_lexer": "ipython3",
   "version": "3.9.7"
  }
 },
 "nbformat": 4,
 "nbformat_minor": 5
}
