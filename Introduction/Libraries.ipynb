{
 "cells": [
  {
   "cell_type": "markdown",
   "id": "de9b1966",
   "metadata": {},
   "source": [
    "### Libraries\n",
    "\n",
    "Python has many useful libraries - these libraries contain useful methods and objects for your code. Let's start with the `math` library. We can add it to our current work space using the `import` command:"
   ]
  },
  {
   "cell_type": "code",
   "execution_count": 2,
   "id": "335a274c",
   "metadata": {},
   "outputs": [],
   "source": [
    "import math as m"
   ]
  },
  {
   "cell_type": "code",
   "execution_count": 4,
   "id": "d8f4c6d4",
   "metadata": {},
   "outputs": [
    {
     "name": "stdout",
     "output_type": "stream",
     "text": [
      "3.141592653589793\n"
     ]
    }
   ],
   "source": [
    "print(m.pi)"
   ]
  },
  {
   "cell_type": "markdown",
   "id": "a58aed6d",
   "metadata": {},
   "source": [
    "The math library has a variable, `pi` which contains the value of the constant $\\pi$. Notice it only prints out the first 16 significant figures of this irrational number. This restriction is because Python is storing the variable as a floating point number with a precision of 16 significant figures. If the numbers you are working with have more than 16 significant digits, be careful using Python (or other coding languages) to do math for you!\n",
    "\n",
    "Let's see what else `math` has to offer. Now that we have $\\pi$, maybe we want to do some trigonometry. For example, what is the $\\sin\\frac{\\pi}{2}$? "
   ]
  },
  {
   "cell_type": "code",
   "execution_count": null,
   "id": "eb80c62b",
   "metadata": {},
   "outputs": [],
   "source": [
    "print(m.sin(m.pi/2))"
   ]
  },
  {
   "cell_type": "markdown",
   "id": "9afa880d",
   "metadata": {},
   "source": [
    "Some of you might prefer to work in degrees, instead of radians. Luckily, `math` has your back! Let's see what $90^\\circ$ is in radians:\n"
   ]
  },
  {
   "cell_type": "code",
   "execution_count": 12,
   "id": "b0d5dbe3",
   "metadata": {},
   "outputs": [
    {
     "name": "stdout",
     "output_type": "stream",
     "text": [
      "1.5707963267948966\n",
      "1.5707963267948966\n",
      "90.0\n"
     ]
    }
   ],
   "source": [
    "print(m.radians(90))\n",
    "print(m.pi/2)\n",
    "print(m.degrees(m.pi/2))"
   ]
  },
  {
   "cell_type": "markdown",
   "id": "8a5e525c",
   "metadata": {},
   "source": [
    "In the above, we used the `math.radians(deg)` method to turn an angle `deg` into its equivalent value in radians. Then we printed out $\\frac{\\pi}{2}$ to compare and show that $90^\\circ$ does correspond to $\\frac{\\pi}{2}$ radians. Next, we used the `math.degrees` function to convert $\\frac{pi}{2}$ radians into degrees."
   ]
  },
  {
   "cell_type": "markdown",
   "id": "eb258444",
   "metadata": {},
   "source": [
    "#### Problem:\n",
    "**Easy:**\n",
    "Define a variable `alpha` and set its value to $\\frac{\\pi}{100}$. Find the cosine and sine of this angle.\n",
    "\n",
    "**Medium:** \n",
    "Define a variable `beta` and set its value to $85.6^\\circ$. Find the cosine and sine of the angle.\n",
    "\n",
    "**Hard:** Show that the identity $\\sin^2\\theta + \\cos^2 \\theta = 1$ is satisfied for both of the angles above."
   ]
  },
  {
   "cell_type": "code",
   "execution_count": 22,
   "id": "b19e8813",
   "metadata": {},
   "outputs": [
    {
     "name": "stdout",
     "output_type": "stream",
     "text": [
      "Sin(alpha)=3.141e-02, Sin(alpha)=9.995e-01\n",
      "Sin(beta)=9.971e-01, Sin(beta)=7.672e-02\n",
      "True True\n"
     ]
    }
   ],
   "source": [
    "##Easy\n",
    "alpha = m.pi/100\n",
    "cosA = m.cos(alpha)\n",
    "sinA = m.sin(alpha)\n",
    "print(\"Sin(alpha)={0:.3e}, Sin(alpha)={1:.3e}\".format(sinA,cosA))\n",
    "\n",
    "##Medium\n",
    "beta = 85.6\n",
    "cosB = m.cos(m.radians(beta))\n",
    "sinB = m.sin(m.radians(beta))\n",
    "print(\"Sin(beta)={0:.3e}, Sin(beta)={1:.3e}\".format(sinB,cosB))\n",
    "\n",
    "##Hard\n",
    "val = cosA**2 + sinA**2\n",
    "val2 = cosB**2 + sinB**2\n",
    "print(val==1,val2==1)"
   ]
  },
  {
   "cell_type": "markdown",
   "id": "cadbaa13",
   "metadata": {},
   "source": [
    "Now lets do some astrophysics: we can measure the distance to a nearby star using *parallax* (see [http://hyperphysics.phy-astr.gsu.edu/hbase/Astro/para.html](http://hyperphysics.phy-astr.gsu.edu/hbase/Astro/para.html)). \n",
    "\n",
    "![How Parallax Works](Figures/parallax.png \"How Parallax Works\")\n",
    "\n",
    "Nearby stars will appear to drift on the sky, relative to the background, as the Earth orbits the sun. If we measure the distance the star has moved on the sky over the course of the Earth's orbit, then we can calculate the distance to the star. \n",
    "\n",
    "We can use trigonometry to calculate the distance. The angle $p$ on the sky that the star moves is related to the distance $d$ to the star and the radius $r$ of the Earth's orbit around the sun by the following equation:\n",
    "\n",
    "$$ d\\tan(p)=r $$\n",
    "\n",
    "We can use $r = 1 \\mathrm{AU} = 1.496 \\times 10^{13} \\mathrm{cm}$. Additionally, the angle $p$ will be very small - usually in units of arcseconds. Arcseconds are defined by \n",
    "\n",
    "$$1^\\circ = 60 \\mathrm{arcmin} = 60^2 \\mathrm{arcsec} = 3600 \\mathrm{arcsec}$$\n",
    "\n",
    "Since the star will move only a few arcseconds, or even just milliarcseconds, we can use the small angle approximation and say $\\tan(p) \\approx p (\\mathrm{radians})$. Then, the distance to the star is \n",
    "\n",
    "$$ d=\\frac{1.496 \\times 10^{13} \\mathrm{cm}}{p (\\mathrm{radians})} = \\frac{1.496 \\times 10^{13} \\mathrm{cm}}{p (\\mathrm{degrees})} \\frac{180}{\\pi} = \\frac{1.496 \\times 10^{13} \\mathrm{cm}}{p (\\mathrm{arcsec})}\\frac{3600}{1} \\frac{180}{\\pi}$$\n",
    "\n",
    "$$ d=\\frac{3.086\\times 10^{18} \\mathrm{cm}}{p (\\mathrm{arcsec})}$$\n",
    "\n",
    "With the above, astronomers define a parallax arcsecond, or **parsec**, as $3.086\\times 10^{18} \\mathrm{cm}$. So, the distance to another star in parsecs is given by \n",
    "\n",
    "$$ d=\\frac{1 \\mathrm{pc}}{p (\\mathrm{arcsec})}$$\n",
    "\n"
   ]
  },
  {
   "cell_type": "markdown",
   "id": "6d1daef5",
   "metadata": {},
   "source": [
    "You don't have to remember this number. There is another library, `astropy`, specifically a submodule `astropy.constants`.  "
   ]
  },
  {
   "cell_type": "code",
   "execution_count": null,
   "id": "9c7798d9",
   "metadata": {},
   "outputs": [],
   "source": []
  }
 ],
 "metadata": {
  "kernelspec": {
   "display_name": "Python 3 (ipykernel)",
   "language": "python",
   "name": "python3"
  },
  "language_info": {
   "codemirror_mode": {
    "name": "ipython",
    "version": 3
   },
   "file_extension": ".py",
   "mimetype": "text/x-python",
   "name": "python",
   "nbconvert_exporter": "python",
   "pygments_lexer": "ipython3",
   "version": "3.10.9"
  }
 },
 "nbformat": 4,
 "nbformat_minor": 5
}
