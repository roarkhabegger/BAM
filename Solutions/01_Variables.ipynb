{
 "cells": [
  {
   "cell_type": "markdown",
   "id": "625a0cbe",
   "metadata": {},
   "source": [
    "# Welcome to Astrophysical Python!\n",
    "\n",
    "Coding in Python is both useful and fun. Let's learn some basics about Variables and Libraries.\n"
   ]
  },
  {
   "cell_type": "markdown",
   "id": "70e51c5c",
   "metadata": {},
   "source": [
    "## Variables"
   ]
  },
  {
   "cell_type": "code",
   "execution_count": 2,
   "id": "4405f06a",
   "metadata": {},
   "outputs": [],
   "source": [
    "x = 10"
   ]
  },
  {
   "cell_type": "code",
   "execution_count": 3,
   "id": "d531ea0c",
   "metadata": {},
   "outputs": [
    {
     "name": "stdout",
     "output_type": "stream",
     "text": [
      "10\n"
     ]
    }
   ],
   "source": [
    "print(x)"
   ]
  },
  {
   "cell_type": "markdown",
   "id": "5448eaf8",
   "metadata": {},
   "source": [
    "Awesome! We just made a variable, `x` which has a value of `10`. Then, we used the function `print(arg)` which prints out whatever argument `arg` inside its parentheses.\n",
    "\n",
    "Python also likes Scientific notation:"
   ]
  },
  {
   "cell_type": "code",
   "execution_count": 4,
   "id": "12a37955",
   "metadata": {},
   "outputs": [
    {
     "name": "stdout",
     "output_type": "stream",
     "text": [
      "10.0\n"
     ]
    }
   ],
   "source": [
    "x2 = 1e1\n",
    "print(x2)"
   ]
  },
  {
   "cell_type": "markdown",
   "id": "dea64f24",
   "metadata": {},
   "source": [
    "Interesting - why did `print` include a `.0` this time? I mean the values must be the same, because both `x` and `x2` are equal to `10`! We can check this with a type of Boolean operator:"
   ]
  },
  {
   "cell_type": "code",
   "execution_count": 5,
   "id": "22eb739c",
   "metadata": {},
   "outputs": [
    {
     "name": "stdout",
     "output_type": "stream",
     "text": [
      "True\n"
     ]
    }
   ],
   "source": [
    "print(x==x2)"
   ]
  },
  {
   "cell_type": "markdown",
   "id": "7c4444ba",
   "metadata": {},
   "source": [
    "The operator `==` looks at the numbers on its left and right hand sides. If the values are equivalent, it returns `True`. Otherwise, it returns `False`. For example, let's add `1` to `x2` and see if that is equivalent to `x`:\n"
   ]
  },
  {
   "cell_type": "code",
   "execution_count": 6,
   "id": "cf963f79",
   "metadata": {},
   "outputs": [
    {
     "name": "stdout",
     "output_type": "stream",
     "text": [
      "False\n"
     ]
    }
   ],
   "source": [
    "print(x==(x2+1))"
   ]
  },
  {
   "cell_type": "markdown",
   "id": "da5867c5",
   "metadata": {},
   "source": [
    "This makes sense, because 11 does not equal 10! In fact there is another Boolean operator, `!=` which asks just that:"
   ]
  },
  {
   "cell_type": "code",
   "execution_count": 7,
   "id": "410fb783",
   "metadata": {},
   "outputs": [
    {
     "name": "stdout",
     "output_type": "stream",
     "text": [
      "True\n"
     ]
    }
   ],
   "source": [
    "print(x!=(x2+1))"
   ]
  },
  {
   "cell_type": "markdown",
   "id": "679eab58",
   "metadata": {},
   "source": [
    "Let's get back to the point though - if `x==x2`, then why did print give two different results:\n"
   ]
  },
  {
   "cell_type": "code",
   "execution_count": 8,
   "id": "55870bde",
   "metadata": {},
   "outputs": [
    {
     "name": "stdout",
     "output_type": "stream",
     "text": [
      "10\n",
      "10.0\n"
     ]
    }
   ],
   "source": [
    "print(x)\n",
    "print(x2)"
   ]
  },
  {
   "cell_type": "markdown",
   "id": "c4217ea8",
   "metadata": {},
   "source": [
    "The answer is that `x` and `x2` have different **data types**. `x` is being stored in your computer's memory as an integer, whereas `x2` is being stored as something called a Float (short for floating point number). Using different data types is necessary because the memory of your computer is finite. If you want to know more about how data is stored in your computer, take a computer science class. For now, we just need to know different variables can have different data types. \n",
    "\n",
    "There are even data types that aren't numbers. For example, strings and characters are other data types:"
   ]
  },
  {
   "cell_type": "code",
   "execution_count": 9,
   "id": "a634976c",
   "metadata": {},
   "outputs": [
    {
     "name": "stdout",
     "output_type": "stream",
     "text": [
      "a\n",
      "Hello Friend!\n"
     ]
    }
   ],
   "source": [
    "myCharacter = \"a\"\n",
    "myString = 'Hello Friend!'\n",
    "print(myCharacter)\n",
    "print(myString)"
   ]
  },
  {
   "cell_type": "markdown",
   "id": "b0de0c07",
   "metadata": {},
   "source": [
    "### Problem 1:\n",
    "\n",
    "**Easy:** \n",
    "Define a variable `M_sun` and set it equal to the mass of the sun $1.989\\times 10^{30} \\mathrm{kg}$. Print it out.\n",
    "\n",
    "**Medium:** \n",
    "Assuming every particle in the sun is a Hydrogen atom (with mass $1.674\\times 10^{-27} \\mathrm{kg}$), how many particles are in the sun? \n",
    "\n",
    "**Hard:**\n",
    "Evaluate the validity (True/False) of this statement, and print the answer: There are more stars in our galaxy than grains of sand on the Earth. Do some research to find the values (*cough* google *cough*)\n"
   ]
  },
  {
   "cell_type": "code",
   "execution_count": 10,
   "id": "84d73a96",
   "metadata": {},
   "outputs": [
    {
     "name": "stdout",
     "output_type": "stream",
     "text": [
      "1.989e+30\n",
      "1.1881720430107527e+57\n",
      "False\n"
     ]
    }
   ],
   "source": [
    "##Easy\n",
    "M_sun = 1.989e30\n",
    "print(M_sun)\n",
    "\n",
    "##Medium\n",
    "mH = 1.674e-27\n",
    "numParticles=M_sun/mH\n",
    "print(numParticles)\n",
    "\n",
    "##Hard\n",
    "sandGrains = 7.5e17\n",
    "MilkyWayStars = 5e11\n",
    "print(MilkyWayStars>sandGrains)"
   ]
  },
  {
   "cell_type": "markdown",
   "id": "ac4812d8",
   "metadata": {},
   "source": [
    "## Libraries\n",
    "\n",
    "Python has many useful libraries - these libraries contain useful methods and objects for your code. Let's start with the `math` library. We can add it to our current work space using the `import` command:"
   ]
  },
  {
   "cell_type": "code",
   "execution_count": 14,
   "id": "7f5a0812",
   "metadata": {},
   "outputs": [],
   "source": [
    "import math as m"
   ]
  },
  {
   "cell_type": "code",
   "execution_count": 15,
   "id": "b07a7482",
   "metadata": {},
   "outputs": [
    {
     "name": "stdout",
     "output_type": "stream",
     "text": [
      "3.141592653589793\n"
     ]
    }
   ],
   "source": [
    "print(m.pi)"
   ]
  },
  {
   "cell_type": "markdown",
   "id": "e9e9e310",
   "metadata": {},
   "source": [
    "The math library has a variable, `pi` which contains the value of the constant $\\pi$. Notice it only prints out the first 16 significant figures of this irrational number. This restriction is because Python is storing the variable as a floating point number with a precision of 16 significant figures. If the numbers you are working with have more than 16 significant digits, be careful using Python (or other coding languages) to do math for you!\n",
    "\n",
    "Let's see what else `math` has to offer. Now that we have $\\pi$, maybe we want to do some trigonometry. For example, what is the $\\sin\\frac{\\pi}{2}$? "
   ]
  },
  {
   "cell_type": "code",
   "execution_count": 16,
   "id": "9692a3e3",
   "metadata": {},
   "outputs": [
    {
     "name": "stdout",
     "output_type": "stream",
     "text": [
      "1.0\n"
     ]
    }
   ],
   "source": [
    "print(m.sin(m.pi/2))"
   ]
  },
  {
   "cell_type": "markdown",
   "id": "be05194f",
   "metadata": {},
   "source": [
    "Some of you might prefer to work in degrees, instead of radians. Luckily, `math` has your back! Let's see what $90^\\circ$ is in radians:\n"
   ]
  },
  {
   "cell_type": "code",
   "execution_count": 17,
   "id": "a9e502e9",
   "metadata": {},
   "outputs": [
    {
     "name": "stdout",
     "output_type": "stream",
     "text": [
      "1.5707963267948966\n",
      "1.5707963267948966\n",
      "90.0\n"
     ]
    }
   ],
   "source": [
    "print(m.radians(90))\n",
    "print(m.pi/2)\n",
    "print(m.degrees(m.pi/2))"
   ]
  },
  {
   "cell_type": "markdown",
   "id": "2995301d",
   "metadata": {},
   "source": [
    "In the above, we used the `math.radians(deg)` method to turn an angle `deg` into its equivalent value in radians. Then we printed out $\\frac{\\pi}{2}$ to compare and show that $90^\\circ$ does correspond to $\\frac{\\pi}{2}$ radians. Next, we used the `math.degrees` function to convert $\\frac{pi}{2}$ radians into degrees."
   ]
  },
  {
   "cell_type": "markdown",
   "id": "4fea8b96",
   "metadata": {},
   "source": [
    "#### Problem:\n",
    "**Easy:**\n",
    "Define a variable `alpha` and set its value to $\\frac{\\pi}{100}$. Print the cosine and sine of this angle.\n",
    "\n",
    "**Medium:** \n",
    "Define a variable `beta` and set its value to $85.6^\\circ$. Print the cosine and sine of the angle.\n",
    "\n",
    "**Hard:** Show that the identity $\\sin^2\\theta + \\cos^2 \\theta = 1$ is satisfied for both of the angles above."
   ]
  },
  {
   "cell_type": "code",
   "execution_count": 18,
   "id": "d64c99d8",
   "metadata": {},
   "outputs": [
    {
     "name": "stdout",
     "output_type": "stream",
     "text": [
      "Sin(alpha)=3.141e-02, Sin(alpha)=9.995e-01\n",
      "Sin(beta)=9.971e-01, Sin(beta)=7.672e-02\n",
      "True True\n"
     ]
    }
   ],
   "source": [
    "##Easy\n",
    "alpha = m.pi/100\n",
    "cosA = m.cos(alpha)\n",
    "sinA = m.sin(alpha)\n",
    "print(\"Sin(alpha)={0:.3e}, Sin(alpha)={1:.3e}\".format(sinA,cosA))\n",
    "\n",
    "##Medium\n",
    "beta = 85.6\n",
    "cosB = m.cos(m.radians(beta))\n",
    "sinB = m.sin(m.radians(beta))\n",
    "print(\"Sin(beta)={0:.3e}, Sin(beta)={1:.3e}\".format(sinB,cosB))\n",
    "\n",
    "##Hard\n",
    "val = cosA**2 + sinA**2\n",
    "val2 = cosB**2 + sinB**2\n",
    "print(val==1,val2==1)"
   ]
  },
  {
   "cell_type": "markdown",
   "id": "d7d67a1f",
   "metadata": {},
   "source": [
    "Now lets do some astrophysics: we can measure the distance to a nearby star using *parallax* (see [http://hyperphysics.phy-astr.gsu.edu/hbase/Astro/para.html](http://hyperphysics.phy-astr.gsu.edu/hbase/Astro/para.html)). \n",
    "\n",
    "![How Parallax Works](Figures/parallax.png \"How Parallax Works\")\n",
    "\n",
    "Nearby stars will appear to drift on the sky, relative to the background, as the Earth orbits the sun. If we measure the distance the star has moved on the sky over the course of the Earth's orbit, then we can calculate the distance to the star. \n",
    "\n",
    "We can use trigonometry to calculate the distance. The angle $p$ on the sky that the star moves is related to the distance $d$ to the star and the radius $r$ of the Earth's orbit around the sun by the following equation:\n",
    "\n",
    "$$ d\\tan(p)=r $$\n",
    "\n",
    "We can use $r = 1 \\mathrm{AU} = 1.496 \\times 10^{13} \\mathrm{cm}$. Additionally, the angle $p$ will be very small - usually in units of arcseconds. Arcseconds are defined by \n",
    "\n",
    "$$1^\\circ = 60 \\mathrm{arcmin} = 60^2 \\mathrm{arcsec} = 3600 \\mathrm{arcsec}$$\n",
    "\n",
    "Since the star will move only a few arcseconds, or even just milliarcseconds, we can use the small angle approximation and say $\\tan(p) \\approx p (\\mathrm{radians})$. Then, the distance to the star is \n",
    "\n",
    "$$ d=\\frac{1.496 \\times 10^{13} \\mathrm{cm}}{p (\\mathrm{radians})} = \\frac{1.496 \\times 10^{13} \\mathrm{cm}}{p (\\mathrm{degrees})} \\frac{180}{\\pi} = \\frac{1.496 \\times 10^{13} \\mathrm{cm}}{p (\\mathrm{arcsec})}\\frac{3600}{1} \\frac{180}{\\pi}$$\n",
    "\n",
    "$$ d=\\frac{3.086\\times 10^{18} \\mathrm{cm}}{p (\\mathrm{arcsec})}$$\n",
    "\n",
    "With the above, astronomers define a parallax arcsecond, or **parsec**, as $3.086\\times 10^{18} \\mathrm{cm}$. So, the distance to another star in parsecs is given by \n",
    "\n",
    "$$ d=\\frac{1 \\mathrm{pc}}{p (\\mathrm{arcsec})}$$\n",
    "\n"
   ]
  },
  {
   "cell_type": "markdown",
   "id": "1d844c6b",
   "metadata": {},
   "source": [
    "You don't have to remember this number. There is another library, `astropy`, specifically submodules `astropy.constants` and `astropy.units`.  "
   ]
  },
  {
   "cell_type": "code",
   "execution_count": 22,
   "id": "751f7e71",
   "metadata": {},
   "outputs": [
    {
     "name": "stdout",
     "output_type": "stream",
     "text": [
      "14959787070000.0 cm\n",
      "3.085677581491367e+18 cm\n"
     ]
    }
   ],
   "source": [
    "import astropy.constants as c\n",
    "import astropy.units as u\n",
    "print((1.0*u.au).to('cm')) #Print the length of 1 AU in centimeters\n",
    "print((1.0*u.pc).to('cm')) #Print the length of 1 parsec in centimeters"
   ]
  },
  {
   "cell_type": "markdown",
   "id": "cbd56d8f",
   "metadata": {},
   "source": [
    "Alright, now we need some data, specifically, the stellar parallax! Using that, we can calculate the distance to stars!\n",
    "\n",
    "In the next lesson, we'll go over data structures in depth. For now, just know that the NumPy library allows us to calculate a lot of things at once by putting our data into *arrays*. Below, I create an array with the stellar parallax for many stars.\n"
   ]
  },
  {
   "cell_type": "code",
   "execution_count": 27,
   "id": "c2fc51a3",
   "metadata": {},
   "outputs": [
    {
     "name": "stdout",
     "output_type": "stream",
     "text": [
      "['Sirius' 'Betelgeuse' 'Proxima Centauri']\n",
      "[  2.6371308  168.06722689   1.30186297] pc\n"
     ]
    }
   ],
   "source": [
    "import numpy as np\n",
    "Stars = np.array([\"Sirius\",\"Betelgeuse\",\"Proxima Centauri\"])\n",
    "parallax = np.array([0.3792,0.00595,0.76813])*u.arcsec\n",
    "#Parallax is in arcsec here,\n",
    "#note the combined use of AstroPy and NumPy. Libraries are often compatible\n",
    "\n",
    "distance = 1.0*u.pc/(parallax/u.arcsec)\n",
    "print(Stars)\n",
    "print(distance.to(\"pc\"))\n",
    "        "
   ]
  },
  {
   "cell_type": "markdown",
   "id": "43144732",
   "metadata": {},
   "source": [
    "#### Problem:\n",
    "\n",
    "**Easy**\n",
    "Print the length of a lightyear in centimeters using the `astropy` library.\n",
    "\n",
    "**Medium**\n",
    "Print the distance to each star in `parallax` in units of lightyears, instead of parsecs.\n",
    "\n",
    "**Hard**\n",
    "Sort the `parallax` array from nearest to furthest star. "
   ]
  },
  {
   "cell_type": "code",
   "execution_count": 41,
   "id": "17af0631",
   "metadata": {},
   "outputs": [
    {
     "name": "stdout",
     "output_type": "stream",
     "text": [
      "9.4607304725808e+17 cm\n",
      "['Sirius' 'Betelgeuse' 'Proxima Centauri']\n",
      "[  8.6011703  548.16197936   4.24610909] lyr\n",
      "[  1.30186297   2.6371308  168.06722689] pc\n"
     ]
    }
   ],
   "source": [
    "##Easy\n",
    "print((1*u.lyr).to('cm'))\n",
    "\n",
    "##Medium\n",
    "print(Stars)\n",
    "print(distance.to(\"lyr\"))\n",
    "\n",
    "##Hard\n",
    "print(np.sort(distance))\n"
   ]
  },
  {
   "cell_type": "code",
   "execution_count": null,
   "id": "e52556e3",
   "metadata": {},
   "outputs": [],
   "source": []
  }
 ],
 "metadata": {
  "kernelspec": {
   "display_name": "Python 3 (ipykernel)",
   "language": "python",
   "name": "python3"
  },
  "language_info": {
   "codemirror_mode": {
    "name": "ipython",
    "version": 3
   },
   "file_extension": ".py",
   "mimetype": "text/x-python",
   "name": "python",
   "nbconvert_exporter": "python",
   "pygments_lexer": "ipython3",
   "version": "3.10.9"
  }
 },
 "nbformat": 4,
 "nbformat_minor": 5
}
