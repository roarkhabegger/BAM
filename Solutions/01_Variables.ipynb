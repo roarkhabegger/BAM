{
 "cells": [
  {
   "cell_type": "markdown",
   "id": "625a0cbe",
   "metadata": {},
   "source": [
    "# Welcome to Astrophysical Python!\n",
    "\n",
    "Coding in Python is both useful and fun. Let's learn some basics about Variables and Libraries.\n"
   ]
  },
  {
   "cell_type": "markdown",
   "id": "70e51c5c",
   "metadata": {},
   "source": [
    "## Variables"
   ]
  },
  {
   "cell_type": "code",
   "execution_count": 5,
   "id": "4405f06a",
   "metadata": {},
   "outputs": [],
   "source": [
    "x = 10"
   ]
  },
  {
   "cell_type": "code",
   "execution_count": 6,
   "id": "d531ea0c",
   "metadata": {},
   "outputs": [
    {
     "name": "stdout",
     "output_type": "stream",
     "text": [
      "10\n"
     ]
    }
   ],
   "source": [
    "print(x)"
   ]
  },
  {
   "cell_type": "markdown",
   "id": "5448eaf8",
   "metadata": {},
   "source": [
    "Awesome! We just made a variable, `x` which has a value of `10`. Then, we used the function `print(arg)` which prints out whatever argument `arg` inside its parentheses.\n",
    "\n",
    "Python also likes Scientific notation:"
   ]
  },
  {
   "cell_type": "code",
   "execution_count": 7,
   "id": "12a37955",
   "metadata": {},
   "outputs": [
    {
     "name": "stdout",
     "output_type": "stream",
     "text": [
      "10.0\n"
     ]
    }
   ],
   "source": [
    "x2 = 1e1\n",
    "print(x2)"
   ]
  },
  {
   "cell_type": "markdown",
   "id": "dea64f24",
   "metadata": {},
   "source": [
    "Interesting - why did `print` include a `.0` this time? I mean the values must be the same, because both `x` and `x2` are equal to `10`! We can check this with a type of Boolean operator:"
   ]
  },
  {
   "cell_type": "code",
   "execution_count": 8,
   "id": "22eb739c",
   "metadata": {},
   "outputs": [
    {
     "name": "stdout",
     "output_type": "stream",
     "text": [
      "True\n"
     ]
    }
   ],
   "source": [
    "print(x==x2)"
   ]
  },
  {
   "cell_type": "markdown",
   "id": "7c4444ba",
   "metadata": {},
   "source": [
    "The operator `==` looks at the numbers on its left and right hand sides. If the values are equivalent, it returns `True`. Otherwise, it returns `False`. For example, let's add `1` to `x2` and see if that is equivalent to `x`:\n"
   ]
  },
  {
   "cell_type": "code",
   "execution_count": 9,
   "id": "cf963f79",
   "metadata": {},
   "outputs": [
    {
     "name": "stdout",
     "output_type": "stream",
     "text": [
      "False\n"
     ]
    }
   ],
   "source": [
    "print(x==(x2+1))"
   ]
  },
  {
   "cell_type": "markdown",
   "id": "da5867c5",
   "metadata": {},
   "source": [
    "This makes sense, because 11 does not equal 10! In fact there is another Boolean operator, `!=` which asks just that:"
   ]
  },
  {
   "cell_type": "code",
   "execution_count": 10,
   "id": "410fb783",
   "metadata": {},
   "outputs": [
    {
     "name": "stdout",
     "output_type": "stream",
     "text": [
      "True\n"
     ]
    }
   ],
   "source": [
    "print(x!=(x2+1))"
   ]
  },
  {
   "cell_type": "markdown",
   "id": "679eab58",
   "metadata": {},
   "source": [
    "Let's get back to the point though - if `x==x2`, then why did print give two different results:\n"
   ]
  },
  {
   "cell_type": "code",
   "execution_count": 11,
   "id": "55870bde",
   "metadata": {},
   "outputs": [
    {
     "name": "stdout",
     "output_type": "stream",
     "text": [
      "10\n",
      "10.0\n"
     ]
    }
   ],
   "source": [
    "print(x)\n",
    "print(x2)"
   ]
  },
  {
   "cell_type": "markdown",
   "id": "c4217ea8",
   "metadata": {},
   "source": [
    "The answer is that `x` and `x2` have different **data types**. `x` is being stored in your computer's memory as an integer, whereas `x2` is being stored as something called a Float (short for floating point number). Using different data types is necessary because the memory of your computer is finite. If you want to know more about how data is stored in your computer, take a computer science class. For now, we just need to know different variables can have different data types. \n",
    "\n",
    "There are even data types that aren't numbers. For example, strings and characters are other data types:"
   ]
  },
  {
   "cell_type": "code",
   "execution_count": 6,
   "id": "a634976c",
   "metadata": {},
   "outputs": [
    {
     "name": "stdout",
     "output_type": "stream",
     "text": [
      "a\n",
      "Hello Friend!\n"
     ]
    }
   ],
   "source": [
    "myCharacter = \"a\"\n",
    "myString = 'Hello Friend!'\n",
    "print(myCharacter)\n",
    "print(myString)"
   ]
  },
  {
   "cell_type": "markdown",
   "id": "b0de0c07",
   "metadata": {},
   "source": [
    "### Problem 1:\n",
    "\n",
    "**Easy:** \n",
    "Define a variable `M_sun` and set it equal to the mass of the sun $1.989\\times 10^{30} \\mathrm{kg}$. Print it out.\n",
    "\n",
    "**Medium:** \n",
    "Assuming every particle in the sun is a Hydrogen atom (with mass $1.674\\times 10^{-27} \\mathrm{kg}$), how many particles are in the sun? \n",
    "\n",
    "**Hard:**\n",
    "Evaluate the validity (True/False) of this statement, and print the answer: There are more stars in our galaxy than grains of sand on the Earth.\n"
   ]
  },
  {
   "cell_type": "code",
   "execution_count": 3,
   "id": "84d73a96",
   "metadata": {},
   "outputs": [
    {
     "name": "stdout",
     "output_type": "stream",
     "text": [
      "1.989e+30\n",
      "1.1881720430107527e+57\n",
      "False\n"
     ]
    }
   ],
   "source": [
    "##Easy\n",
    "M_sun = 1.989e30\n",
    "print(M_sun)\n",
    "\n",
    "##Medium\n",
    "mH = 1.674e-27\n",
    "numParticles=M_sun/mH\n",
    "print(numParticles)\n",
    "\n",
    "##Hard\n",
    "sandGrains = 7.5e17\n",
    "MilkyWayStars = 5e11\n",
    "print(MilkyWayStars>sandGrains)"
   ]
  },
  {
   "cell_type": "markdown",
   "id": "ac4812d8",
   "metadata": {},
   "source": [
    "## Libraries"
   ]
  },
  {
   "cell_type": "code",
   "execution_count": 12,
   "id": "7f5a0812",
   "metadata": {},
   "outputs": [],
   "source": [
    "import math as m"
   ]
  },
  {
   "cell_type": "code",
   "execution_count": 17,
   "id": "b07a7482",
   "metadata": {},
   "outputs": [
    {
     "name": "stdout",
     "output_type": "stream",
     "text": [
      "1.0\n",
      "1.0\n"
     ]
    }
   ],
   "source": [
    "print(m.sin(m.pi/2))\n",
    "print(m.sin(m.radians(90)))"
   ]
  },
  {
   "cell_type": "code",
   "execution_count": null,
   "id": "1c53af86",
   "metadata": {},
   "outputs": [],
   "source": []
  }
 ],
 "metadata": {
  "kernelspec": {
   "display_name": "Python 3 (ipykernel)",
   "language": "python",
   "name": "python3"
  },
  "language_info": {
   "codemirror_mode": {
    "name": "ipython",
    "version": 3
   },
   "file_extension": ".py",
   "mimetype": "text/x-python",
   "name": "python",
   "nbconvert_exporter": "python",
   "pygments_lexer": "ipython3",
   "version": "3.10.6"
  }
 },
 "nbformat": 4,
 "nbformat_minor": 5
}
