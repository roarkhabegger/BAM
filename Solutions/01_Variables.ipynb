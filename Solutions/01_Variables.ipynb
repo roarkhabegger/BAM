{
 "cells": [
  {
   "cell_type": "markdown",
   "id": "625a0cbe",
   "metadata": {},
   "source": [
    "# Welcome to Astrophysical Python!\n",
    "\n",
    "Coding in Python is both useful and fun. Let's learn some basics about Variables and Libraries.\n"
   ]
  },
  {
   "cell_type": "markdown",
   "id": "70e51c5c",
   "metadata": {},
   "source": [
    "## Variables"
   ]
  },
  {
   "cell_type": "code",
   "execution_count": 4,
   "id": "4405f06a",
   "metadata": {},
   "outputs": [],
   "source": [
    "x = 10"
   ]
  },
  {
   "cell_type": "code",
   "execution_count": 5,
   "id": "d531ea0c",
   "metadata": {},
   "outputs": [
    {
     "name": "stdout",
     "output_type": "stream",
     "text": [
      "10\n"
     ]
    }
   ],
   "source": [
    "print(x)"
   ]
  },
  {
   "cell_type": "markdown",
   "id": "5448eaf8",
   "metadata": {},
   "source": [
    "Awesome! We just made a variable, `x` which has a value of `10`. Then, we used the function `print(arg)` which prints out whatever argument `arg` inside its parentheses.\n",
    "\n",
    "Python also likes Scientific notation:"
   ]
  },
  {
   "cell_type": "code",
   "execution_count": 6,
   "id": "12a37955",
   "metadata": {},
   "outputs": [
    {
     "name": "stdout",
     "output_type": "stream",
     "text": [
      "10.0\n"
     ]
    }
   ],
   "source": [
    "x2 = 1e1\n",
    "print(x2)"
   ]
  },
  {
   "cell_type": "markdown",
   "id": "dea64f24",
   "metadata": {},
   "source": [
    "Interesting - why did `print` include a `.0` this time? I mean the values must be the same, because both `x` and `x2` are equal to `10`! We can check this with a type of Boolean operator:"
   ]
  },
  {
   "cell_type": "code",
   "execution_count": 7,
   "id": "22eb739c",
   "metadata": {},
   "outputs": [
    {
     "name": "stdout",
     "output_type": "stream",
     "text": [
      "True\n"
     ]
    }
   ],
   "source": [
    "print(x==x2)"
   ]
  },
  {
   "cell_type": "markdown",
   "id": "7c4444ba",
   "metadata": {},
   "source": [
    "The operator `==` looks at the numbers on its left and right hand sides. If the values are equivalent, it returns `True`. Otherwise, it returns `False`. For example, let's add `1` to `x2` and see if that is equivalent to `x`:\n"
   ]
  },
  {
   "cell_type": "code",
   "execution_count": 8,
   "id": "cf963f79",
   "metadata": {},
   "outputs": [
    {
     "name": "stdout",
     "output_type": "stream",
     "text": [
      "False\n"
     ]
    }
   ],
   "source": [
    "print(x==(x2+1))"
   ]
  },
  {
   "cell_type": "markdown",
   "id": "da5867c5",
   "metadata": {},
   "source": [
    "This makes sense, because 11 does not equal 10! In fact there is another Boolean operator, `!=` which asks just that:"
   ]
  },
  {
   "cell_type": "code",
   "execution_count": 9,
   "id": "410fb783",
   "metadata": {},
   "outputs": [
    {
     "name": "stdout",
     "output_type": "stream",
     "text": [
      "True\n"
     ]
    }
   ],
   "source": [
    "print(x!=(x2+1))"
   ]
  },
  {
   "cell_type": "markdown",
   "id": "679eab58",
   "metadata": {},
   "source": [
    "Let's get back to the point though - if `x==x2`, then why did print give two different results:\n"
   ]
  },
  {
   "cell_type": "code",
   "execution_count": 10,
   "id": "55870bde",
   "metadata": {},
   "outputs": [
    {
     "name": "stdout",
     "output_type": "stream",
     "text": [
      "10\n",
      "10.0\n"
     ]
    }
   ],
   "source": [
    "print(x)\n",
    "print(x2)"
   ]
  },
  {
   "cell_type": "markdown",
   "id": "c4217ea8",
   "metadata": {},
   "source": [
    "The answer is that `x` and `x2` have different **data types**. `x` is being stored in your computer's memory as an integer, whereas `x2` is being stored as something called a Float (short for floating point number). Using different data types is necessary because the memory of your computer is finite. If you want to know more about how data is stored in your computer, take a computer science class. For now, we just need to know different variables can have different data types. \n",
    "\n",
    "There are even data types that aren't numbers. For example, strings and characters are other data types:"
   ]
  },
  {
   "cell_type": "code",
   "execution_count": 11,
   "id": "a634976c",
   "metadata": {},
   "outputs": [
    {
     "name": "stdout",
     "output_type": "stream",
     "text": [
      "a\n",
      "Hello Friend!\n"
     ]
    }
   ],
   "source": [
    "myCharacter = \"a\"\n",
    "myString = 'Hello Friend!'\n",
    "print(myCharacter)\n",
    "print(myString)"
   ]
  },
  {
   "cell_type": "markdown",
   "id": "b0de0c07",
   "metadata": {},
   "source": [
    "### Problem 1:\n",
    "\n",
    "**Easy:** \n",
    "Define a variable `M_sun` and set it equal to the mass of the sun $1.989\\times 10^{30} \\mathrm{kg}$. Print it out.\n",
    "\n",
    "**Medium:** \n",
    "Assuming every particle in the sun is a Hydrogen atom (with mass $1.674\\times 10^{-27} \\mathrm{kg}$), how many particles are in the sun? \n",
    "\n",
    "**Hard:**\n",
    "Evaluate the validity (True/False) of this statement, and print the answer: There are more stars in our galaxy than grains of sand on the Earth.\n"
   ]
  },
  {
   "cell_type": "code",
   "execution_count": 12,
   "id": "84d73a96",
   "metadata": {},
   "outputs": [
    {
     "name": "stdout",
     "output_type": "stream",
     "text": [
      "1.989e+30\n",
      "1.1881720430107527e+57\n",
      "False\n"
     ]
    }
   ],
   "source": [
    "##Easy\n",
    "M_sun = 1.989e30\n",
    "print(M_sun)\n",
    "\n",
    "##Medium\n",
    "mH = 1.674e-27\n",
    "numParticles=M_sun/mH\n",
    "print(numParticles)\n",
    "\n",
    "##Hard\n",
    "sandGrains = 7.5e17\n",
    "MilkyWayStars = 5e11\n",
    "print(MilkyWayStars>sandGrains)"
   ]
  },
  {
   "cell_type": "markdown",
   "id": "ac4812d8",
   "metadata": {},
   "source": [
    "## Libraries\n",
    "\n",
    "Python has many useful libraries - these libraries contain useful methods and objects for your code. Let's start with the `math` library. We can add it to our current work space using the `import` command:"
   ]
  },
  {
   "cell_type": "code",
   "execution_count": 13,
   "id": "7f5a0812",
   "metadata": {},
   "outputs": [],
   "source": [
    "import math as m"
   ]
  },
  {
   "cell_type": "code",
   "execution_count": 14,
   "id": "b07a7482",
   "metadata": {},
   "outputs": [
    {
     "name": "stdout",
     "output_type": "stream",
     "text": [
      "3.141592653589793\n"
     ]
    }
   ],
   "source": [
    "print(m.pi)"
   ]
  },
  {
   "cell_type": "markdown",
   "id": "e9e9e310",
   "metadata": {},
   "source": [
    "The math library has a variable, `pi` which contains the value of the constant $\\pi$. Notice it only prints out the first 16 significant figures of this irrational number. This restriction is because Python is storing the variable as a floating point number with a precision of 16 significant figures. If the numbers you are working with have more than 16 significant digits, be careful using Python (or other coding languages) to do math for you!\n",
    "\n",
    "Let's see what else `math` has to offer. Now that we have $\\pi$, maybe we want to do some trigonometry. For example, what is the $\\sin\\frac{\\pi}{2}$? "
   ]
  },
  {
   "cell_type": "code",
   "execution_count": 15,
   "id": "9692a3e3",
   "metadata": {},
   "outputs": [
    {
     "name": "stdout",
     "output_type": "stream",
     "text": [
      "1.0\n"
     ]
    }
   ],
   "source": [
    "print(m.sin(m.pi/2))"
   ]
  },
  {
   "cell_type": "markdown",
   "id": "be05194f",
   "metadata": {},
   "source": [
    "Some of you might prefer to work in degrees, instead of radians. Luckily, `math` has your back! Let's see what $90^\\circ$ is in radians:\n"
   ]
  },
  {
   "cell_type": "code",
   "execution_count": 16,
   "id": "a9e502e9",
   "metadata": {},
   "outputs": [
    {
     "name": "stdout",
     "output_type": "stream",
     "text": [
      "1.5707963267948966\n",
      "1.5707963267948966\n",
      "90.0\n"
     ]
    }
   ],
   "source": [
    "print(m.radians(90))\n",
    "print(m.pi/2)\n",
    "print(m.degrees(m.pi/2))"
   ]
  },
  {
   "cell_type": "markdown",
   "id": "2995301d",
   "metadata": {},
   "source": [
    "In the above, we used the `math.radians(deg)` method to turn an angle `deg` into its equivalent value in radians. Then we printed out $\\frac{\\pi}{2}$ to compare and show that $90^\\circ$ does correspond to $\\frac{\\pi}{2}$ radians. Next, we used the `math.degrees` function to convert $\\frac{pi}{2}$ radians into degrees."
   ]
  },
  {
   "cell_type": "markdown",
   "id": "4fea8b96",
   "metadata": {},
   "source": [
    "#### Problem:\n",
    "**Easy:**\n",
    "Define a variable `alpha` and set its value to $\\frac{\\pi}{100}$. Find the cosine and sine of this angle.\n",
    "\n",
    "**Medium:** \n",
    "Define a variable `beta` and set its value to $85.6^\\circ$. Find the cosine and sine of the angle.\n",
    "\n",
    "**Hard:** Show that the identity $\\sin^2\\theta + \\cos^2 \\theta = 1$ is satisfied for both of the angles above."
   ]
  },
  {
   "cell_type": "code",
   "execution_count": 17,
   "id": "d64c99d8",
   "metadata": {},
   "outputs": [
    {
     "name": "stdout",
     "output_type": "stream",
     "text": [
      "Sin(alpha)=3.141e-02, Sin(alpha)=9.995e-01\n",
      "Sin(beta)=9.971e-01, Sin(beta)=7.672e-02\n",
      "True True\n"
     ]
    }
   ],
   "source": [
    "##Easy\n",
    "alpha = m.pi/100\n",
    "cosA = m.cos(alpha)\n",
    "sinA = m.sin(alpha)\n",
    "print(\"Sin(alpha)={0:.3e}, Sin(alpha)={1:.3e}\".format(sinA,cosA))\n",
    "\n",
    "##Medium\n",
    "beta = 85.6\n",
    "cosB = m.cos(m.radians(beta))\n",
    "sinB = m.sin(m.radians(beta))\n",
    "print(\"Sin(beta)={0:.3e}, Sin(beta)={1:.3e}\".format(sinB,cosB))\n",
    "\n",
    "##Hard\n",
    "val = cosA**2 + sinA**2\n",
    "val2 = cosB**2 + sinB**2\n",
    "print(val==1,val2==1)"
   ]
  },
  {
   "cell_type": "markdown",
   "id": "d7d67a1f",
   "metadata": {},
   "source": [
    "Now lets do some astrophysics: we can measure the distance to a nearby star using *parallax* (see [http://hyperphysics.phy-astr.gsu.edu/hbase/Astro/para.html](http://hyperphysics.phy-astr.gsu.edu/hbase/Astro/para.html)). \n",
    "\n",
    "![How Parallax Works](Figures/parallax.png \"How Parallax Works\")\n",
    "\n",
    "Nearby stars will appear to drift on the sky, relative to the background, as the Earth orbits the sun. If we measure the distance the star has moved on the sky over the course of the Earth's orbit, then we can calculate the distance to the star. \n",
    "\n",
    "We can use trigonometry to calculate the distance. The angle $p$ on the sky that the star moves is related to the distance $d$ to the star and the radius $r$ of the Earth's orbit around the sun by the following equation:\n",
    "\n",
    "$$ d\\tan(p)=r $$\n",
    "\n",
    "We can use $r = 1 \\mathrm{AU} = 1.496 \\times 10^{13} \\mathrm{cm}$. Additionally, the angle $p$ will be very small - usually in units of arcseconds. Arcseconds are defined by \n",
    "\n",
    "$$1^\\circ = 60 \\mathrm{arcmin} = 60^2 \\mathrm{arcsec} = 3600 \\mathrm{arcsec}$$\n",
    "\n",
    "Since the star will move only a few arcseconds, or even just milliarcseconds, we can use the small angle approximation and say $\\tan(p) \\approx p (\\mathrm{radians})$. Then, the distance to the star is \n",
    "\n",
    "$$ d=\\frac{1.496 \\times 10^{13} \\mathrm{cm}}{p (\\mathrm{radians})} = \\frac{1.496 \\times 10^{13} \\mathrm{cm}}{p (\\mathrm{degrees})} \\frac{180}{\\pi} = \\frac{1.496 \\times 10^{13} \\mathrm{cm}}{p (\\mathrm{arcsec})}\\frac{3600}{1} \\frac{180}{\\pi}$$\n",
    "\n",
    "$$ d=\\frac{3.086\\times 10^{18} \\mathrm{cm}}{p (\\mathrm{arcsec})}$$\n",
    "\n",
    "With the above, astronomers define a parallax arcsecond, or **parsec**, as $3.086\\times 10^{18} \\mathrm{cm}$. So, the distance to another star in parsecs is given by \n",
    "\n",
    "$$ d=\\frac{1 \\mathrm{pc}}{p (\\mathrm{arcsec})}$$\n",
    "\n"
   ]
  },
  {
   "cell_type": "markdown",
   "id": "1d844c6b",
   "metadata": {},
   "source": [
    "You don't have to remember this number. There is another library, `astropy`, specifically a submodule `astropy.constants`.  "
   ]
  },
  {
   "cell_type": "code",
   "execution_count": null,
   "id": "751f7e71",
   "metadata": {},
   "outputs": [],
   "source": []
  },
  {
   "cell_type": "code",
   "execution_count": null,
   "id": "088f9fe2",
   "metadata": {},
   "outputs": [],
   "source": []
  }
 ],
 "metadata": {
  "kernelspec": {
   "display_name": "Python 3 (ipykernel)",
   "language": "python",
   "name": "python3"
  },
  "language_info": {
   "codemirror_mode": {
    "name": "ipython",
    "version": 3
   },
   "file_extension": ".py",
   "mimetype": "text/x-python",
   "name": "python",
   "nbconvert_exporter": "python",
   "pygments_lexer": "ipython3",
   "version": "3.10.9"
  }
 },
 "nbformat": 4,
 "nbformat_minor": 5
}
